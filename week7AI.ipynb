{
  "nbformat": 4,
  "nbformat_minor": 0,
  "metadata": {
    "colab": {
      "provenance": [],
      "authorship_tag": "ABX9TyMDlDwoT/58j8QqZzhdRZ4Y",
      "include_colab_link": true
    },
    "kernelspec": {
      "name": "python3",
      "display_name": "Python 3"
    },
    "language_info": {
      "name": "python"
    }
  },
  "cells": [
    {
      "cell_type": "markdown",
      "metadata": {
        "id": "view-in-github",
        "colab_type": "text"
      },
      "source": [
        "<a href=\"https://colab.research.google.com/github/Currybroketherecord/AI-week7/blob/main/week7AI.ipynb\" target=\"_parent\"><img src=\"https://colab.research.google.com/assets/colab-badge.svg\" alt=\"Open In Colab\"/></a>"
      ]
    },
    {
      "cell_type": "code",
      "execution_count": null,
      "metadata": {
        "id": "T3fTMJ63KvZi"
      },
      "outputs": [],
      "source": [
        "from aif360.datasets import CompasDataset\n",
        "from aif360.metrics import BinaryLabelDatasetMetric, ClassificationMetric\n",
        "from aif360.algorithms.preprocessing import Reweighing\n",
        "from sklearn.preprocessing import StandardScaler\n",
        "from sklearn.linear_model import LogisticRegression\n",
        "from sklearn.metrics import accuracy_score\n",
        "import matplotlib.pyplot as plt\n",
        "import seaborn as sns\n",
        "\n",
        "# Load dataset\n",
        "dataset_orig = CompasDataset()\n",
        "\n",
        "# Privileged and unprivileged groups\n",
        "privileged_groups = [{'race': 1}]   # Caucasian\n",
        "unprivileged_groups = [{'race': 0}] # African-American\n",
        "\n",
        "# Bias Metrics Before Mitigation\n",
        "metric_orig = BinaryLabelDatasetMetric(dataset_orig,\n",
        "                                       unprivileged_groups=unprivileged_groups,\n",
        "                                       privileged_groups=privileged_groups)\n",
        "\n",
        "print(\"Disparate Impact:\", metric_orig.disparate_impact())\n",
        "print(\"Statistical Parity Difference:\", metric_orig.statistical_parity_difference())\n",
        "\n",
        "# Preprocessing – Reweighing\n",
        "RW = Reweighing(unprivileged_groups=unprivileged_groups,\n",
        "                privileged_groups=privileged_groups)\n",
        "dataset_transf = RW.fit_transform(dataset_orig)\n",
        "\n",
        "# Train/test split\n",
        "dataset_orig_train, dataset_orig_test = dataset_transf.split([0.7], shuffle=True)\n",
        "X_train = dataset_orig_train.features\n",
        "y_train = dataset_orig_train.labels.ravel()\n",
        "X_test = dataset_orig_test.features\n",
        "y_test = dataset_orig_test.labels.ravel()\n",
        "\n",
        "# Model\n",
        "model = LogisticRegression(solver='liblinear')\n",
        "model.fit(X_train, y_train)\n",
        "y_pred = model.predict(X_test)\n",
        "\n",
        "# Create dataset with predictions\n",
        "dataset_pred = dataset_orig_test.copy()\n",
        "dataset_pred.labels = y_pred\n",
        "\n",
        "# Fairness metrics\n",
        "classified_metric = ClassificationMetric(dataset_orig_test,\n",
        "                                         dataset_pred,\n",
        "                                         unprivileged_groups=unprivileged_groups,\n",
        "                                         privileged_groups=privileged_groups)\n",
        "\n",
        "print(\"False Positive Rate difference:\",\n",
        "      classified_metric.false_positive_rate_difference())\n",
        "print(\"Equal Opportunity Difference:\",\n",
        "      classified_metric.equal_opportunity_difference())\n",
        "\n",
        "# Visualization\n",
        "labels = ['False Positive Rate', 'False Negative Rate']\n",
        "values = [\n",
        "    classified_metric.false_positive_rate_difference(),\n",
        "    classified_metric.false_negative_rate_difference()\n",
        "]\n",
        "sns.barplot(x=labels, y=values)\n",
        "plt.title(\"Disparity Metrics (Unprivileged vs. Privileged)\")\n",
        "plt.ylabel(\"Difference\")\n",
        "plt.axhline(0, color='gray', linestyle='--')\n",
        "plt.show()\n"
      ]
    }
  ]
}